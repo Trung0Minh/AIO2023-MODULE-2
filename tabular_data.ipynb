{
  "nbformat": 4,
  "nbformat_minor": 0,
  "metadata": {
    "colab": {
      "provenance": [],
      "authorship_tag": "ABX9TyPelThg/9S64UT9WgBaH44r",
      "include_colab_link": true
    },
    "kernelspec": {
      "name": "python3",
      "display_name": "Python 3"
    },
    "language_info": {
      "name": "python"
    }
  },
  "cells": [
    {
      "cell_type": "markdown",
      "metadata": {
        "id": "view-in-github",
        "colab_type": "text"
      },
      "source": [
        "<a href=\"https://colab.research.google.com/github/Trung0Minh/AIO2023-MODULE-2/blob/main/tabular_data.ipynb\" target=\"_parent\"><img src=\"https://colab.research.google.com/assets/colab-badge.svg\" alt=\"Open In Colab\"/></a>"
      ]
    },
    {
      "cell_type": "code",
      "source": [
        "import numpy as np"
      ],
      "metadata": {
        "id": "v8hxPvX8VImV"
      },
      "execution_count": 3,
      "outputs": []
    },
    {
      "cell_type": "code",
      "source": [
        "class LinearRegression:\n",
        "    def __init__(self, X, y, learning_rate=0.01, num_epochs=10000):\n",
        "        self.X = X\n",
        "        self.y = y\n",
        "        self.learning_rate = learning_rate\n",
        "        self.num_epochs = num_epochs\n",
        "        self.num_samples = X.shape[0]\n",
        "\n",
        "        self.theta = np.random.randn(self.X.shape[1])\n",
        "        self.losses = []\n",
        "\n",
        "    def compute_loss(self, y_pred, y_target):\n",
        "        return np.mean((y_pred - y_target)**2)\n",
        "\n",
        "    def predict(self, X):\n",
        "        y_pred = np.dot(X, self.theta)\n",
        "        return y_pred\n",
        "\n",
        "    def fit(self):\n",
        "        for epoch in range(self.num_epochs):\n",
        "            y_pred = self.predict(self.x)\n",
        "\n",
        "            loss = self.compute_loss(y_pred, self.y)\n",
        "            self.losses.append(loss)\n",
        "\n",
        "            gradients = np.dot(self.X.T, 2*(y_pred - self.y)) / self.num_samples\n",
        "            self.theta = self.theta - self.learning_rate * gradients\n",
        "            print(f\"Epoch : { epoch } - Loss : { loss }\")\n",
        "\n",
        "        return {\n",
        "            \"loss\": sum(self.losses) / len(self.losses),\n",
        "            \"weight\": self.theta\n",
        "        }"
      ],
      "metadata": {
        "id": "uALAcCZUVlMo"
      },
      "execution_count": 4,
      "outputs": []
    },
    {
      "cell_type": "code",
      "source": [
        "def r2score(y_pred, y):\n",
        "    rss = np.sum((y_pred - y)**2)\n",
        "    tss = np.sum((y - y.mean())**2)\n",
        "    r2 = 1 - rss/tss\n",
        "    return r2"
      ],
      "metadata": {
        "id": "RQBua35eX7_Z"
      },
      "execution_count": 5,
      "outputs": []
    },
    {
      "cell_type": "code",
      "source": [
        "y_pred = np. array ([1 , 2, 3, 4, 5])\n",
        "y = np. array ([1 , 2, 3, 4, 5])\n",
        "r2score (y_pred , y)"
      ],
      "metadata": {
        "colab": {
          "base_uri": "https://localhost:8080/"
        },
        "id": "SMFuHQf8aGWn",
        "outputId": "2f42edf2-6597-468a-ddc0-95cf34487695"
      },
      "execution_count": 6,
      "outputs": [
        {
          "output_type": "execute_result",
          "data": {
            "text/plain": [
              "1.0"
            ]
          },
          "metadata": {},
          "execution_count": 6
        }
      ]
    },
    {
      "cell_type": "code",
      "source": [
        "def create_polynomial_features(X, degree):\n",
        "    X_new = X\n",
        "    for i in range(2, degree + 1):\n",
        "        X_new = np.c_[X_new, np.power(X, i)]\n",
        "    return X_new"
      ],
      "metadata": {
        "id": "SFG9I2OXaJZt"
      },
      "execution_count": 7,
      "outputs": []
    },
    {
      "cell_type": "code",
      "source": [
        "X = np. array ([[1 , 2],\n",
        "[2, 3],\n",
        "[3, 4]])\n",
        "degree = 2\n",
        "create_polynomial_features (X , degree)"
      ],
      "metadata": {
        "colab": {
          "base_uri": "https://localhost:8080/"
        },
        "id": "d2CcGNsgbDKE",
        "outputId": "d92f6080-ae9b-443c-a636-628a7471ba4e"
      },
      "execution_count": 8,
      "outputs": [
        {
          "output_type": "execute_result",
          "data": {
            "text/plain": [
              "array([[ 1,  2,  1,  4],\n",
              "       [ 2,  3,  4,  9],\n",
              "       [ 3,  4,  9, 16]])"
            ]
          },
          "metadata": {},
          "execution_count": 8
        }
      ]
    },
    {
      "cell_type": "code",
      "source": [
        "def create_polynomial_features_v2(X, degree):\n",
        "    X_mem = []\n",
        "    for X_sub in X.T:\n",
        "        X_sub = X_sub.T\n",
        "        X_new = X_sub\n",
        "        for i in range(2, degree + 1):\n",
        "            X_new = np.c_[X_new, np.power(X_sub, i)]\n",
        "        X_mem.append(X_new.T)\n",
        "    return np.c_[X_mem].T"
      ],
      "metadata": {
        "id": "3UyOPKcdcSat"
      },
      "execution_count": 21,
      "outputs": []
    },
    {
      "cell_type": "code",
      "source": [
        "X = np. array ([[1 , 2],\n",
        "[2, 3],\n",
        "[3, 4]])\n",
        "degree = 2\n",
        "create_polynomial_features_v2 (X , degree)"
      ],
      "metadata": {
        "colab": {
          "base_uri": "https://localhost:8080/"
        },
        "id": "kkylWKtQB1Uf",
        "outputId": "717ebd02-7413-449e-dc6e-8b65a088f720"
      },
      "execution_count": 23,
      "outputs": [
        {
          "output_type": "execute_result",
          "data": {
            "text/plain": [
              "array([[[ 1,  2],\n",
              "        [ 1,  4]],\n",
              "\n",
              "       [[ 2,  3],\n",
              "        [ 4,  9]],\n",
              "\n",
              "       [[ 3,  4],\n",
              "        [ 9, 16]]])"
            ]
          },
          "metadata": {},
          "execution_count": 23
        }
      ]
    }
  ]
}