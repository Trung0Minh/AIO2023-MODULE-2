{
  "nbformat": 4,
  "nbformat_minor": 0,
  "metadata": {
    "colab": {
      "provenance": [],
      "authorship_tag": "ABX9TyOK0DkgME6zwyAg4+IA+dPd",
      "include_colab_link": true
    },
    "kernelspec": {
      "name": "python3",
      "display_name": "Python 3"
    },
    "language_info": {
      "name": "python"
    }
  },
  "cells": [
    {
      "cell_type": "markdown",
      "metadata": {
        "id": "view-in-github",
        "colab_type": "text"
      },
      "source": [
        "<a href=\"https://colab.research.google.com/github/Trung0Minh/AIO2023-MODULE-2/blob/main/text_retrieval.ipynb\" target=\"_parent\"><img src=\"https://colab.research.google.com/assets/colab-badge.svg\" alt=\"Open In Colab\"/></a>"
      ]
    },
    {
      "cell_type": "code",
      "source": [
        "!pip install datasets"
      ],
      "metadata": {
        "colab": {
          "base_uri": "https://localhost:8080/"
        },
        "id": "z1tIhkzTLXhK",
        "outputId": "7411187e-e36c-4e82-cca9-da21e4048f71"
      },
      "execution_count": 29,
      "outputs": [
        {
          "output_type": "stream",
          "name": "stdout",
          "text": [
            "Requirement already satisfied: datasets in /usr/local/lib/python3.10/dist-packages (2.13.1)\n",
            "Requirement already satisfied: numpy>=1.17 in /usr/local/lib/python3.10/dist-packages (from datasets) (1.26.4)\n",
            "Requirement already satisfied: pyarrow>=8.0.0 in /usr/local/lib/python3.10/dist-packages (from datasets) (17.0.0)\n",
            "Requirement already satisfied: dill<0.3.7,>=0.3.0 in /usr/local/lib/python3.10/dist-packages (from datasets) (0.3.6)\n",
            "Requirement already satisfied: pandas in /usr/local/lib/python3.10/dist-packages (from datasets) (2.2.2)\n",
            "Requirement already satisfied: requests>=2.19.0 in /usr/local/lib/python3.10/dist-packages (from datasets) (2.32.3)\n",
            "Requirement already satisfied: tqdm>=4.62.1 in /usr/local/lib/python3.10/dist-packages (from datasets) (4.67.1)\n",
            "Requirement already satisfied: xxhash in /usr/local/lib/python3.10/dist-packages (from datasets) (3.5.0)\n",
            "Requirement already satisfied: multiprocess in /usr/local/lib/python3.10/dist-packages (from datasets) (0.70.14)\n",
            "Requirement already satisfied: fsspec>=2021.11.1 in /usr/local/lib/python3.10/dist-packages (from fsspec[http]>=2021.11.1->datasets) (2024.10.0)\n",
            "Requirement already satisfied: aiohttp in /usr/local/lib/python3.10/dist-packages (from datasets) (3.11.10)\n",
            "Requirement already satisfied: huggingface-hub<1.0.0,>=0.11.0 in /usr/local/lib/python3.10/dist-packages (from datasets) (0.27.0)\n",
            "Requirement already satisfied: packaging in /usr/local/lib/python3.10/dist-packages (from datasets) (24.2)\n",
            "Requirement already satisfied: pyyaml>=5.1 in /usr/local/lib/python3.10/dist-packages (from datasets) (6.0.2)\n",
            "Requirement already satisfied: aiohappyeyeballs>=2.3.0 in /usr/local/lib/python3.10/dist-packages (from aiohttp->datasets) (2.4.4)\n",
            "Requirement already satisfied: aiosignal>=1.1.2 in /usr/local/lib/python3.10/dist-packages (from aiohttp->datasets) (1.3.2)\n",
            "Requirement already satisfied: async-timeout<6.0,>=4.0 in /usr/local/lib/python3.10/dist-packages (from aiohttp->datasets) (4.0.3)\n",
            "Requirement already satisfied: attrs>=17.3.0 in /usr/local/lib/python3.10/dist-packages (from aiohttp->datasets) (24.3.0)\n",
            "Requirement already satisfied: frozenlist>=1.1.1 in /usr/local/lib/python3.10/dist-packages (from aiohttp->datasets) (1.5.0)\n",
            "Requirement already satisfied: multidict<7.0,>=4.5 in /usr/local/lib/python3.10/dist-packages (from aiohttp->datasets) (6.1.0)\n",
            "Requirement already satisfied: propcache>=0.2.0 in /usr/local/lib/python3.10/dist-packages (from aiohttp->datasets) (0.2.1)\n",
            "Requirement already satisfied: yarl<2.0,>=1.17.0 in /usr/local/lib/python3.10/dist-packages (from aiohttp->datasets) (1.18.3)\n",
            "Requirement already satisfied: filelock in /usr/local/lib/python3.10/dist-packages (from huggingface-hub<1.0.0,>=0.11.0->datasets) (3.16.1)\n",
            "Requirement already satisfied: typing-extensions>=3.7.4.3 in /usr/local/lib/python3.10/dist-packages (from huggingface-hub<1.0.0,>=0.11.0->datasets) (4.12.2)\n",
            "Requirement already satisfied: charset-normalizer<4,>=2 in /usr/local/lib/python3.10/dist-packages (from requests>=2.19.0->datasets) (3.4.0)\n",
            "Requirement already satisfied: idna<4,>=2.5 in /usr/local/lib/python3.10/dist-packages (from requests>=2.19.0->datasets) (3.10)\n",
            "Requirement already satisfied: urllib3<3,>=1.21.1 in /usr/local/lib/python3.10/dist-packages (from requests>=2.19.0->datasets) (2.2.3)\n",
            "Requirement already satisfied: certifi>=2017.4.17 in /usr/local/lib/python3.10/dist-packages (from requests>=2.19.0->datasets) (2024.12.14)\n",
            "Requirement already satisfied: python-dateutil>=2.8.2 in /usr/local/lib/python3.10/dist-packages (from pandas->datasets) (2.8.2)\n",
            "Requirement already satisfied: pytz>=2020.1 in /usr/local/lib/python3.10/dist-packages (from pandas->datasets) (2024.2)\n",
            "Requirement already satisfied: tzdata>=2022.7 in /usr/local/lib/python3.10/dist-packages (from pandas->datasets) (2024.2)\n",
            "Requirement already satisfied: six>=1.5 in /usr/local/lib/python3.10/dist-packages (from python-dateutil>=2.8.2->pandas->datasets) (1.17.0)\n"
          ]
        }
      ]
    },
    {
      "cell_type": "code",
      "source": [
        "!pip install --upgrade datasets"
      ],
      "metadata": {
        "colab": {
          "base_uri": "https://localhost:8080/",
          "height": 1000
        },
        "id": "hW02QCdJVik7",
        "outputId": "8f5efde2-358c-4c43-dbeb-89bdefe5b35b"
      },
      "execution_count": 35,
      "outputs": [
        {
          "output_type": "stream",
          "name": "stdout",
          "text": [
            "Requirement already satisfied: datasets in /usr/local/lib/python3.10/dist-packages (2.13.1)\n",
            "Collecting datasets\n",
            "  Downloading datasets-3.2.0-py3-none-any.whl.metadata (20 kB)\n",
            "Requirement already satisfied: filelock in /usr/local/lib/python3.10/dist-packages (from datasets) (3.16.1)\n",
            "Requirement already satisfied: numpy>=1.17 in /usr/local/lib/python3.10/dist-packages (from datasets) (1.26.4)\n",
            "Requirement already satisfied: pyarrow>=15.0.0 in /usr/local/lib/python3.10/dist-packages (from datasets) (17.0.0)\n",
            "Requirement already satisfied: dill<0.3.9,>=0.3.0 in /usr/local/lib/python3.10/dist-packages (from datasets) (0.3.6)\n",
            "Requirement already satisfied: pandas in /usr/local/lib/python3.10/dist-packages (from datasets) (2.2.2)\n",
            "Requirement already satisfied: requests>=2.32.2 in /usr/local/lib/python3.10/dist-packages (from datasets) (2.32.3)\n",
            "Requirement already satisfied: tqdm>=4.66.3 in /usr/local/lib/python3.10/dist-packages (from datasets) (4.67.1)\n",
            "Requirement already satisfied: xxhash in /usr/local/lib/python3.10/dist-packages (from datasets) (3.5.0)\n",
            "Requirement already satisfied: multiprocess<0.70.17 in /usr/local/lib/python3.10/dist-packages (from datasets) (0.70.14)\n",
            "Collecting fsspec<=2024.9.0,>=2023.1.0 (from fsspec[http]<=2024.9.0,>=2023.1.0->datasets)\n",
            "  Downloading fsspec-2024.9.0-py3-none-any.whl.metadata (11 kB)\n",
            "Requirement already satisfied: aiohttp in /usr/local/lib/python3.10/dist-packages (from datasets) (3.11.10)\n",
            "Requirement already satisfied: huggingface-hub>=0.23.0 in /usr/local/lib/python3.10/dist-packages (from datasets) (0.27.0)\n",
            "Requirement already satisfied: packaging in /usr/local/lib/python3.10/dist-packages (from datasets) (24.2)\n",
            "Requirement already satisfied: pyyaml>=5.1 in /usr/local/lib/python3.10/dist-packages (from datasets) (6.0.2)\n",
            "Requirement already satisfied: aiohappyeyeballs>=2.3.0 in /usr/local/lib/python3.10/dist-packages (from aiohttp->datasets) (2.4.4)\n",
            "Requirement already satisfied: aiosignal>=1.1.2 in /usr/local/lib/python3.10/dist-packages (from aiohttp->datasets) (1.3.2)\n",
            "Requirement already satisfied: async-timeout<6.0,>=4.0 in /usr/local/lib/python3.10/dist-packages (from aiohttp->datasets) (4.0.3)\n",
            "Requirement already satisfied: attrs>=17.3.0 in /usr/local/lib/python3.10/dist-packages (from aiohttp->datasets) (24.3.0)\n",
            "Requirement already satisfied: frozenlist>=1.1.1 in /usr/local/lib/python3.10/dist-packages (from aiohttp->datasets) (1.5.0)\n",
            "Requirement already satisfied: multidict<7.0,>=4.5 in /usr/local/lib/python3.10/dist-packages (from aiohttp->datasets) (6.1.0)\n",
            "Requirement already satisfied: propcache>=0.2.0 in /usr/local/lib/python3.10/dist-packages (from aiohttp->datasets) (0.2.1)\n",
            "Requirement already satisfied: yarl<2.0,>=1.17.0 in /usr/local/lib/python3.10/dist-packages (from aiohttp->datasets) (1.18.3)\n",
            "Requirement already satisfied: typing-extensions>=3.7.4.3 in /usr/local/lib/python3.10/dist-packages (from huggingface-hub>=0.23.0->datasets) (4.12.2)\n",
            "Requirement already satisfied: charset-normalizer<4,>=2 in /usr/local/lib/python3.10/dist-packages (from requests>=2.32.2->datasets) (3.4.0)\n",
            "Requirement already satisfied: idna<4,>=2.5 in /usr/local/lib/python3.10/dist-packages (from requests>=2.32.2->datasets) (3.10)\n",
            "Requirement already satisfied: urllib3<3,>=1.21.1 in /usr/local/lib/python3.10/dist-packages (from requests>=2.32.2->datasets) (2.2.3)\n",
            "Requirement already satisfied: certifi>=2017.4.17 in /usr/local/lib/python3.10/dist-packages (from requests>=2.32.2->datasets) (2024.12.14)\n",
            "Requirement already satisfied: python-dateutil>=2.8.2 in /usr/local/lib/python3.10/dist-packages (from pandas->datasets) (2.8.2)\n",
            "Requirement already satisfied: pytz>=2020.1 in /usr/local/lib/python3.10/dist-packages (from pandas->datasets) (2024.2)\n",
            "Requirement already satisfied: tzdata>=2022.7 in /usr/local/lib/python3.10/dist-packages (from pandas->datasets) (2024.2)\n",
            "Requirement already satisfied: six>=1.5 in /usr/local/lib/python3.10/dist-packages (from python-dateutil>=2.8.2->pandas->datasets) (1.17.0)\n",
            "Downloading datasets-3.2.0-py3-none-any.whl (480 kB)\n",
            "\u001b[2K   \u001b[90m━━━━━━━━━━━━━━━━━━━━━━━━━━━━━━━━━━━━━━━━\u001b[0m \u001b[32m480.6/480.6 kB\u001b[0m \u001b[31m14.9 MB/s\u001b[0m eta \u001b[36m0:00:00\u001b[0m\n",
            "\u001b[?25hDownloading fsspec-2024.9.0-py3-none-any.whl (179 kB)\n",
            "\u001b[2K   \u001b[90m━━━━━━━━━━━━━━━━━━━━━━━━━━━━━━━━━━━━━━━━\u001b[0m \u001b[32m179.3/179.3 kB\u001b[0m \u001b[31m12.7 MB/s\u001b[0m eta \u001b[36m0:00:00\u001b[0m\n",
            "\u001b[?25hInstalling collected packages: fsspec, datasets\n",
            "  Attempting uninstall: fsspec\n",
            "    Found existing installation: fsspec 2024.10.0\n",
            "    Uninstalling fsspec-2024.10.0:\n",
            "      Successfully uninstalled fsspec-2024.10.0\n",
            "  Attempting uninstall: datasets\n",
            "    Found existing installation: datasets 2.13.1\n",
            "    Uninstalling datasets-2.13.1:\n",
            "      Successfully uninstalled datasets-2.13.1\n",
            "\u001b[31mERROR: pip's dependency resolver does not currently take into account all the packages that are installed. This behaviour is the source of the following dependency conflicts.\n",
            "gcsfs 2024.10.0 requires fsspec==2024.10.0, but you have fsspec 2024.9.0 which is incompatible.\u001b[0m\u001b[31m\n",
            "\u001b[0mSuccessfully installed datasets-3.2.0 fsspec-2024.9.0\n"
          ]
        },
        {
          "output_type": "display_data",
          "data": {
            "application/vnd.colab-display-data+json": {
              "pip_warning": {
                "packages": [
                  "datasets"
                ]
              },
              "id": "eef7a084e5d44b4e82ce8093fe1d957e"
            }
          },
          "metadata": {}
        }
      ]
    },
    {
      "cell_type": "code",
      "source": [
        "from datasets import load_dataset\n",
        "\n",
        "dataset = load_dataset(\"microsoft/ms_marco\", \"v1.1\")"
      ],
      "metadata": {
        "id": "NTp6ysVPL_gn"
      },
      "execution_count": 2,
      "outputs": []
    },
    {
      "cell_type": "code",
      "source": [
        "subset = dataset['test']"
      ],
      "metadata": {
        "id": "du5VA7yQW2XS"
      },
      "execution_count": 3,
      "outputs": []
    },
    {
      "cell_type": "code",
      "source": [
        "queries_info =[]\n",
        "queries = []\n",
        "corpus = []"
      ],
      "metadata": {
        "id": "e0yIEgF1W54a"
      },
      "execution_count": 4,
      "outputs": []
    },
    {
      "cell_type": "code",
      "source": [
        "subset"
      ],
      "metadata": {
        "colab": {
          "base_uri": "https://localhost:8080/"
        },
        "id": "YQAVsSJUXG1Z",
        "outputId": "da2ce5a8-15be-4ebf-c7cd-48834d2a0d8a"
      },
      "execution_count": 7,
      "outputs": [
        {
          "output_type": "execute_result",
          "data": {
            "text/plain": [
              "Dataset({\n",
              "    features: ['answers', 'passages', 'query', 'query_id', 'query_type', 'wellFormedAnswers'],\n",
              "    num_rows: 9650\n",
              "})"
            ]
          },
          "metadata": {},
          "execution_count": 7
        }
      ]
    },
    {
      "cell_type": "code",
      "source": [
        "import pandas as pd\n",
        "\n",
        "pd.DataFrame(subset)"
      ],
      "metadata": {
        "colab": {
          "base_uri": "https://localhost:8080/",
          "height": 597
        },
        "id": "7E5lr-1iXaBX",
        "outputId": "feee5466-eecc-48bc-ef99-3803865d4faf"
      },
      "execution_count": 11,
      "outputs": [
        {
          "output_type": "execute_result",
          "data": {
            "text/plain": [
              "                                                answers  \\\n",
              "0                                                 [Yes]   \n",
              "1     [Fossil fuels are basically the remains of ani...   \n",
              "2     [The apothem of a regular polygon is a line se...   \n",
              "3                                      [$45 to $210. 2]   \n",
              "4     [It is the collection of physical elements tha...   \n",
              "...                                                 ...   \n",
              "9645  [Can last 3-4 days in the fridge as long as it...   \n",
              "9646  [Body mass index (BMI) the weight in kilograms...   \n",
              "9647                                              [Yes]   \n",
              "9648  ['Bisque' is a shade of White that is 23% satu...   \n",
              "9649  [They are products containing chemical substan...   \n",
              "\n",
              "                                               passages  \\\n",
              "0     {'is_selected': [0, 0, 1, 0, 0, 0, 0], 'passag...   \n",
              "1     {'is_selected': [0, 1, 0, 0, 0, 0, 0, 0, 0], '...   \n",
              "2     {'is_selected': [0, 0, 0, 0, 0, 1, 0, 0, 0], '...   \n",
              "3     {'is_selected': [0, 0, 0, 0, 0, 1, 0, 0, 0], '...   \n",
              "4     {'is_selected': [0, 1, 0, 0, 0, 0, 0, 0, 0, 0]...   \n",
              "...                                                 ...   \n",
              "9645  {'is_selected': [0, 0, 0, 1, 0, 0, 0], 'passag...   \n",
              "9646  {'is_selected': [0, 0, 0, 0, 0, 0, 1, 0, 0], '...   \n",
              "9647  {'is_selected': [0, 0, 0, 0, 0, 1, 0, 0, 0], '...   \n",
              "9648  {'is_selected': [0, 0, 0, 0, 1, 0, 0, 0], 'pas...   \n",
              "9649  {'is_selected': [1, 0, 0, 0, 0, 0, 0, 0, 0, 0]...   \n",
              "\n",
              "                                          query  query_id   query_type  \\\n",
              "0                does human hair stop squirrels         0  description   \n",
              "1         what are the benefits of fossil fuels         1  description   \n",
              "2                             what is a apothem         2  description   \n",
              "3                average cost for custom canopy         3      numeric   \n",
              "4              what is a hardware in a computer         4  description   \n",
              "...                                         ...       ...          ...   \n",
              "9645  how long can you keep bacon in the fridge      9647      numeric   \n",
              "9646   what is growth bmi mean in medical terms      9648  description   \n",
              "9647     can an llc apply for more than one dba      9649  description   \n",
              "9648                    bisque color definition      9650       entity   \n",
              "9649                   what are synthetic drugs      9651  description   \n",
              "\n",
              "     wellFormedAnswers  \n",
              "0                   []  \n",
              "1                   []  \n",
              "2                   []  \n",
              "3                   []  \n",
              "4                   []  \n",
              "...                ...  \n",
              "9645                []  \n",
              "9646                []  \n",
              "9647                []  \n",
              "9648                []  \n",
              "9649                []  \n",
              "\n",
              "[9650 rows x 6 columns]"
            ],
            "text/html": [
              "\n",
              "  <div id=\"df-f951391c-64ac-4010-a280-6d4469fa283d\" class=\"colab-df-container\">\n",
              "    <div>\n",
              "<style scoped>\n",
              "    .dataframe tbody tr th:only-of-type {\n",
              "        vertical-align: middle;\n",
              "    }\n",
              "\n",
              "    .dataframe tbody tr th {\n",
              "        vertical-align: top;\n",
              "    }\n",
              "\n",
              "    .dataframe thead th {\n",
              "        text-align: right;\n",
              "    }\n",
              "</style>\n",
              "<table border=\"1\" class=\"dataframe\">\n",
              "  <thead>\n",
              "    <tr style=\"text-align: right;\">\n",
              "      <th></th>\n",
              "      <th>answers</th>\n",
              "      <th>passages</th>\n",
              "      <th>query</th>\n",
              "      <th>query_id</th>\n",
              "      <th>query_type</th>\n",
              "      <th>wellFormedAnswers</th>\n",
              "    </tr>\n",
              "  </thead>\n",
              "  <tbody>\n",
              "    <tr>\n",
              "      <th>0</th>\n",
              "      <td>[Yes]</td>\n",
              "      <td>{'is_selected': [0, 0, 1, 0, 0, 0, 0], 'passag...</td>\n",
              "      <td>does human hair stop squirrels</td>\n",
              "      <td>0</td>\n",
              "      <td>description</td>\n",
              "      <td>[]</td>\n",
              "    </tr>\n",
              "    <tr>\n",
              "      <th>1</th>\n",
              "      <td>[Fossil fuels are basically the remains of ani...</td>\n",
              "      <td>{'is_selected': [0, 1, 0, 0, 0, 0, 0, 0, 0], '...</td>\n",
              "      <td>what are the benefits of fossil fuels</td>\n",
              "      <td>1</td>\n",
              "      <td>description</td>\n",
              "      <td>[]</td>\n",
              "    </tr>\n",
              "    <tr>\n",
              "      <th>2</th>\n",
              "      <td>[The apothem of a regular polygon is a line se...</td>\n",
              "      <td>{'is_selected': [0, 0, 0, 0, 0, 1, 0, 0, 0], '...</td>\n",
              "      <td>what is a apothem</td>\n",
              "      <td>2</td>\n",
              "      <td>description</td>\n",
              "      <td>[]</td>\n",
              "    </tr>\n",
              "    <tr>\n",
              "      <th>3</th>\n",
              "      <td>[$45 to $210. 2]</td>\n",
              "      <td>{'is_selected': [0, 0, 0, 0, 0, 1, 0, 0, 0], '...</td>\n",
              "      <td>average cost for custom canopy</td>\n",
              "      <td>3</td>\n",
              "      <td>numeric</td>\n",
              "      <td>[]</td>\n",
              "    </tr>\n",
              "    <tr>\n",
              "      <th>4</th>\n",
              "      <td>[It is the collection of physical elements tha...</td>\n",
              "      <td>{'is_selected': [0, 1, 0, 0, 0, 0, 0, 0, 0, 0]...</td>\n",
              "      <td>what is a hardware in a computer</td>\n",
              "      <td>4</td>\n",
              "      <td>description</td>\n",
              "      <td>[]</td>\n",
              "    </tr>\n",
              "    <tr>\n",
              "      <th>...</th>\n",
              "      <td>...</td>\n",
              "      <td>...</td>\n",
              "      <td>...</td>\n",
              "      <td>...</td>\n",
              "      <td>...</td>\n",
              "      <td>...</td>\n",
              "    </tr>\n",
              "    <tr>\n",
              "      <th>9645</th>\n",
              "      <td>[Can last 3-4 days in the fridge as long as it...</td>\n",
              "      <td>{'is_selected': [0, 0, 0, 1, 0, 0, 0], 'passag...</td>\n",
              "      <td>how long can you keep bacon in the fridge</td>\n",
              "      <td>9647</td>\n",
              "      <td>numeric</td>\n",
              "      <td>[]</td>\n",
              "    </tr>\n",
              "    <tr>\n",
              "      <th>9646</th>\n",
              "      <td>[Body mass index (BMI) the weight in kilograms...</td>\n",
              "      <td>{'is_selected': [0, 0, 0, 0, 0, 0, 1, 0, 0], '...</td>\n",
              "      <td>what is growth bmi mean in medical terms</td>\n",
              "      <td>9648</td>\n",
              "      <td>description</td>\n",
              "      <td>[]</td>\n",
              "    </tr>\n",
              "    <tr>\n",
              "      <th>9647</th>\n",
              "      <td>[Yes]</td>\n",
              "      <td>{'is_selected': [0, 0, 0, 0, 0, 1, 0, 0, 0], '...</td>\n",
              "      <td>can an llc apply for more than one dba</td>\n",
              "      <td>9649</td>\n",
              "      <td>description</td>\n",
              "      <td>[]</td>\n",
              "    </tr>\n",
              "    <tr>\n",
              "      <th>9648</th>\n",
              "      <td>['Bisque' is a shade of White that is 23% satu...</td>\n",
              "      <td>{'is_selected': [0, 0, 0, 0, 1, 0, 0, 0], 'pas...</td>\n",
              "      <td>bisque color definition</td>\n",
              "      <td>9650</td>\n",
              "      <td>entity</td>\n",
              "      <td>[]</td>\n",
              "    </tr>\n",
              "    <tr>\n",
              "      <th>9649</th>\n",
              "      <td>[They are products containing chemical substan...</td>\n",
              "      <td>{'is_selected': [1, 0, 0, 0, 0, 0, 0, 0, 0, 0]...</td>\n",
              "      <td>what are synthetic drugs</td>\n",
              "      <td>9651</td>\n",
              "      <td>description</td>\n",
              "      <td>[]</td>\n",
              "    </tr>\n",
              "  </tbody>\n",
              "</table>\n",
              "<p>9650 rows × 6 columns</p>\n",
              "</div>\n",
              "    <div class=\"colab-df-buttons\">\n",
              "\n",
              "  <div class=\"colab-df-container\">\n",
              "    <button class=\"colab-df-convert\" onclick=\"convertToInteractive('df-f951391c-64ac-4010-a280-6d4469fa283d')\"\n",
              "            title=\"Convert this dataframe to an interactive table.\"\n",
              "            style=\"display:none;\">\n",
              "\n",
              "  <svg xmlns=\"http://www.w3.org/2000/svg\" height=\"24px\" viewBox=\"0 -960 960 960\">\n",
              "    <path d=\"M120-120v-720h720v720H120Zm60-500h600v-160H180v160Zm220 220h160v-160H400v160Zm0 220h160v-160H400v160ZM180-400h160v-160H180v160Zm440 0h160v-160H620v160ZM180-180h160v-160H180v160Zm440 0h160v-160H620v160Z\"/>\n",
              "  </svg>\n",
              "    </button>\n",
              "\n",
              "  <style>\n",
              "    .colab-df-container {\n",
              "      display:flex;\n",
              "      gap: 12px;\n",
              "    }\n",
              "\n",
              "    .colab-df-convert {\n",
              "      background-color: #E8F0FE;\n",
              "      border: none;\n",
              "      border-radius: 50%;\n",
              "      cursor: pointer;\n",
              "      display: none;\n",
              "      fill: #1967D2;\n",
              "      height: 32px;\n",
              "      padding: 0 0 0 0;\n",
              "      width: 32px;\n",
              "    }\n",
              "\n",
              "    .colab-df-convert:hover {\n",
              "      background-color: #E2EBFA;\n",
              "      box-shadow: 0px 1px 2px rgba(60, 64, 67, 0.3), 0px 1px 3px 1px rgba(60, 64, 67, 0.15);\n",
              "      fill: #174EA6;\n",
              "    }\n",
              "\n",
              "    .colab-df-buttons div {\n",
              "      margin-bottom: 4px;\n",
              "    }\n",
              "\n",
              "    [theme=dark] .colab-df-convert {\n",
              "      background-color: #3B4455;\n",
              "      fill: #D2E3FC;\n",
              "    }\n",
              "\n",
              "    [theme=dark] .colab-df-convert:hover {\n",
              "      background-color: #434B5C;\n",
              "      box-shadow: 0px 1px 3px 1px rgba(0, 0, 0, 0.15);\n",
              "      filter: drop-shadow(0px 1px 2px rgba(0, 0, 0, 0.3));\n",
              "      fill: #FFFFFF;\n",
              "    }\n",
              "  </style>\n",
              "\n",
              "    <script>\n",
              "      const buttonEl =\n",
              "        document.querySelector('#df-f951391c-64ac-4010-a280-6d4469fa283d button.colab-df-convert');\n",
              "      buttonEl.style.display =\n",
              "        google.colab.kernel.accessAllowed ? 'block' : 'none';\n",
              "\n",
              "      async function convertToInteractive(key) {\n",
              "        const element = document.querySelector('#df-f951391c-64ac-4010-a280-6d4469fa283d');\n",
              "        const dataTable =\n",
              "          await google.colab.kernel.invokeFunction('convertToInteractive',\n",
              "                                                    [key], {});\n",
              "        if (!dataTable) return;\n",
              "\n",
              "        const docLinkHtml = 'Like what you see? Visit the ' +\n",
              "          '<a target=\"_blank\" href=https://colab.research.google.com/notebooks/data_table.ipynb>data table notebook</a>'\n",
              "          + ' to learn more about interactive tables.';\n",
              "        element.innerHTML = '';\n",
              "        dataTable['output_type'] = 'display_data';\n",
              "        await google.colab.output.renderOutput(dataTable, element);\n",
              "        const docLink = document.createElement('div');\n",
              "        docLink.innerHTML = docLinkHtml;\n",
              "        element.appendChild(docLink);\n",
              "      }\n",
              "    </script>\n",
              "  </div>\n",
              "\n",
              "\n",
              "<div id=\"df-026db040-f51c-46c4-815b-80d92e417672\">\n",
              "  <button class=\"colab-df-quickchart\" onclick=\"quickchart('df-026db040-f51c-46c4-815b-80d92e417672')\"\n",
              "            title=\"Suggest charts\"\n",
              "            style=\"display:none;\">\n",
              "\n",
              "<svg xmlns=\"http://www.w3.org/2000/svg\" height=\"24px\"viewBox=\"0 0 24 24\"\n",
              "     width=\"24px\">\n",
              "    <g>\n",
              "        <path d=\"M19 3H5c-1.1 0-2 .9-2 2v14c0 1.1.9 2 2 2h14c1.1 0 2-.9 2-2V5c0-1.1-.9-2-2-2zM9 17H7v-7h2v7zm4 0h-2V7h2v10zm4 0h-2v-4h2v4z\"/>\n",
              "    </g>\n",
              "</svg>\n",
              "  </button>\n",
              "\n",
              "<style>\n",
              "  .colab-df-quickchart {\n",
              "      --bg-color: #E8F0FE;\n",
              "      --fill-color: #1967D2;\n",
              "      --hover-bg-color: #E2EBFA;\n",
              "      --hover-fill-color: #174EA6;\n",
              "      --disabled-fill-color: #AAA;\n",
              "      --disabled-bg-color: #DDD;\n",
              "  }\n",
              "\n",
              "  [theme=dark] .colab-df-quickchart {\n",
              "      --bg-color: #3B4455;\n",
              "      --fill-color: #D2E3FC;\n",
              "      --hover-bg-color: #434B5C;\n",
              "      --hover-fill-color: #FFFFFF;\n",
              "      --disabled-bg-color: #3B4455;\n",
              "      --disabled-fill-color: #666;\n",
              "  }\n",
              "\n",
              "  .colab-df-quickchart {\n",
              "    background-color: var(--bg-color);\n",
              "    border: none;\n",
              "    border-radius: 50%;\n",
              "    cursor: pointer;\n",
              "    display: none;\n",
              "    fill: var(--fill-color);\n",
              "    height: 32px;\n",
              "    padding: 0;\n",
              "    width: 32px;\n",
              "  }\n",
              "\n",
              "  .colab-df-quickchart:hover {\n",
              "    background-color: var(--hover-bg-color);\n",
              "    box-shadow: 0 1px 2px rgba(60, 64, 67, 0.3), 0 1px 3px 1px rgba(60, 64, 67, 0.15);\n",
              "    fill: var(--button-hover-fill-color);\n",
              "  }\n",
              "\n",
              "  .colab-df-quickchart-complete:disabled,\n",
              "  .colab-df-quickchart-complete:disabled:hover {\n",
              "    background-color: var(--disabled-bg-color);\n",
              "    fill: var(--disabled-fill-color);\n",
              "    box-shadow: none;\n",
              "  }\n",
              "\n",
              "  .colab-df-spinner {\n",
              "    border: 2px solid var(--fill-color);\n",
              "    border-color: transparent;\n",
              "    border-bottom-color: var(--fill-color);\n",
              "    animation:\n",
              "      spin 1s steps(1) infinite;\n",
              "  }\n",
              "\n",
              "  @keyframes spin {\n",
              "    0% {\n",
              "      border-color: transparent;\n",
              "      border-bottom-color: var(--fill-color);\n",
              "      border-left-color: var(--fill-color);\n",
              "    }\n",
              "    20% {\n",
              "      border-color: transparent;\n",
              "      border-left-color: var(--fill-color);\n",
              "      border-top-color: var(--fill-color);\n",
              "    }\n",
              "    30% {\n",
              "      border-color: transparent;\n",
              "      border-left-color: var(--fill-color);\n",
              "      border-top-color: var(--fill-color);\n",
              "      border-right-color: var(--fill-color);\n",
              "    }\n",
              "    40% {\n",
              "      border-color: transparent;\n",
              "      border-right-color: var(--fill-color);\n",
              "      border-top-color: var(--fill-color);\n",
              "    }\n",
              "    60% {\n",
              "      border-color: transparent;\n",
              "      border-right-color: var(--fill-color);\n",
              "    }\n",
              "    80% {\n",
              "      border-color: transparent;\n",
              "      border-right-color: var(--fill-color);\n",
              "      border-bottom-color: var(--fill-color);\n",
              "    }\n",
              "    90% {\n",
              "      border-color: transparent;\n",
              "      border-bottom-color: var(--fill-color);\n",
              "    }\n",
              "  }\n",
              "</style>\n",
              "\n",
              "  <script>\n",
              "    async function quickchart(key) {\n",
              "      const quickchartButtonEl =\n",
              "        document.querySelector('#' + key + ' button');\n",
              "      quickchartButtonEl.disabled = true;  // To prevent multiple clicks.\n",
              "      quickchartButtonEl.classList.add('colab-df-spinner');\n",
              "      try {\n",
              "        const charts = await google.colab.kernel.invokeFunction(\n",
              "            'suggestCharts', [key], {});\n",
              "      } catch (error) {\n",
              "        console.error('Error during call to suggestCharts:', error);\n",
              "      }\n",
              "      quickchartButtonEl.classList.remove('colab-df-spinner');\n",
              "      quickchartButtonEl.classList.add('colab-df-quickchart-complete');\n",
              "    }\n",
              "    (() => {\n",
              "      let quickchartButtonEl =\n",
              "        document.querySelector('#df-026db040-f51c-46c4-815b-80d92e417672 button');\n",
              "      quickchartButtonEl.style.display =\n",
              "        google.colab.kernel.accessAllowed ? 'block' : 'none';\n",
              "    })();\n",
              "  </script>\n",
              "</div>\n",
              "\n",
              "    </div>\n",
              "  </div>\n"
            ],
            "application/vnd.google.colaboratory.intrinsic+json": {
              "type": "dataframe",
              "summary": "{\n  \"name\": \"pd\",\n  \"rows\": 9650,\n  \"fields\": [\n    {\n      \"column\": \"answers\",\n      \"properties\": {\n        \"dtype\": \"object\",\n        \"semantic_type\": \"\",\n        \"description\": \"\"\n      }\n    },\n    {\n      \"column\": \"passages\",\n      \"properties\": {\n        \"dtype\": \"object\",\n        \"semantic_type\": \"\",\n        \"description\": \"\"\n      }\n    },\n    {\n      \"column\": \"query\",\n      \"properties\": {\n        \"dtype\": \"string\",\n        \"num_unique_values\": 9650,\n        \"samples\": [\n          \"is eva toxic\",\n          \"what is a capricorn animal\",\n          \"what is leukemia caused by\"\n        ],\n        \"semantic_type\": \"\",\n        \"description\": \"\"\n      }\n    },\n    {\n      \"column\": \"query_id\",\n      \"properties\": {\n        \"dtype\": \"number\",\n        \"std\": 2786,\n        \"min\": 0,\n        \"max\": 9651,\n        \"num_unique_values\": 9650,\n        \"samples\": [\n          3774,\n          4054,\n          4166\n        ],\n        \"semantic_type\": \"\",\n        \"description\": \"\"\n      }\n    },\n    {\n      \"column\": \"query_type\",\n      \"properties\": {\n        \"dtype\": \"category\",\n        \"num_unique_values\": 5,\n        \"samples\": [\n          \"numeric\",\n          \"person\",\n          \"entity\"\n        ],\n        \"semantic_type\": \"\",\n        \"description\": \"\"\n      }\n    },\n    {\n      \"column\": \"wellFormedAnswers\",\n      \"properties\": {\n        \"dtype\": \"object\",\n        \"semantic_type\": \"\",\n        \"description\": \"\"\n      }\n    }\n  ]\n}"
            }
          },
          "metadata": {},
          "execution_count": 11
        }
      ]
    },
    {
      "cell_type": "code",
      "source": [
        "subset.shape"
      ],
      "metadata": {
        "colab": {
          "base_uri": "https://localhost:8080/"
        },
        "id": "i05EaZ8gW_lE",
        "outputId": "3107bba3-1991-4e28-9413-27f04a907625"
      },
      "execution_count": 6,
      "outputs": [
        {
          "output_type": "execute_result",
          "data": {
            "text/plain": [
              "(9650, 6)"
            ]
          },
          "metadata": {},
          "execution_count": 6
        }
      ]
    },
    {
      "cell_type": "code",
      "source": [
        "subset[5]['passages']"
      ],
      "metadata": {
        "colab": {
          "base_uri": "https://localhost:8080/"
        },
        "id": "jI71RP0UZMbh",
        "outputId": "b6a78dbf-0edd-4254-e3c7-d2cfaa5152aa"
      },
      "execution_count": 18,
      "outputs": [
        {
          "output_type": "execute_result",
          "data": {
            "text/plain": [
              "{'is_selected': [0, 0, 0, 0, 0, 1, 0, 1, 0, 0],\n",
              " 'passage_text': ['Like many other early information technologies, EDI was inspired by developments in military logistics. The complexity of the 1948 Berlin airlift required the development of concepts and methods to exchange, sometimes over a 300 baud teletype modem, vast quantities of data and information about transported goods. In EDI terminology inbound and outbound refer to the direction of transmission of an EDI document in relation to a particular system, not the direction of merchandise, money or other things represented by the document.',\n",
              "  'Each term in the definition is significant to the understanding of how EDI works: Computer-to-computer – EDI replaces postal mail, fax and email. While email is also an electronic approach, the documents exchanged via email must still be handled by people rather than computers. The most commonly used EDI Transaction Sets in the Transportation Industry are: 1  204 - Motor Carrier Load Tender: The shipper or 3PL via a TMS sends this transaction set to YRC the carrier to request a shipment pickup.',\n",
              "  'Time is money, and that’s never been more true than with companies in the logistics and distribution industries, Logistics Service Providers (LSP) and 3PL warehouses. Ensure that orders are shipped and invoiced painlessly by using an EDI solution designed for your particular challenges – EDI/HQ™. EDI/HQ™ has customer data available in a user-friendly dashboard, which tracks shipping orders and invoices at all stages of fulfillment. In today’s fast-paced world, responding quickly to changing customers or market dynamics is a competitive advantage.',\n",
              "  'A third-party logistics provider (abbreviated 3PL, or sometimes TPL) is a firm that provides service to its customers of outsourced (or Third Party) logistics services for part, or all of their supply chain management functions. ',\n",
              "  'Let’s back up a bit before we specifically address EDI in transportation. First we must understand and get on the same page of what is Electronic Data Interchange, or EDI, as it is not only used in the transportation industry. The most commonly used EDI Transaction Sets in the Transportation Industry are: 1  204 - Motor Carrier Load Tender: The shipper or 3PL via a TMS sends this transaction set to YRC the carrier to request a shipment pickup.',\n",
              "  'E lectronic D ata I nterchange (EDI) refers to the computer-to-computer exchange between different companies via electronic communication channels. At the beginning of EDI (1970’s) there were no standards for the data format. When companies decided to establish EDI with a business partner, they agreed bilaterally which format to use. To reduce this complexity and the efforts, time and costs involved there where introduced the first standards in the 1980’s.',\n",
              "  'EDI can be transmitted using any methodology agreed to by the sender and recipient. This includes a variety of technologies, including modem (asynchronous and synchronous), FTP, e-mail, HTTP, AS1, AS2, etc. It is important to differentiate between the EDI documents and the methods for transmitting them. In EDI terminology inbound and outbound refer to the direction of transmission of an EDI document in relation to a particular system, not the direction of merchandise, money or other things represented by the document.',\n",
              "  'EDI is a standard format for exchanging business data between organisations by electronic means. It is used to transfer electronic documents or business data from one computer system to another as an electronic equivalent for paper-based orders, confirmation and invoices between trading partners. Some of the key advantages of EDI include:',\n",
              "  'What is EDI? Basically it is the electronic exchange of business documents in a standardized format. In the EDI world, these business documents are called transaction sets, and the customers and carriers with whom you do business are trading partners. Most trucking software packages have the ability to send and receive EDI in this format. There are two basic methods for your computer to send or receive EDI transactions with your partner’s computer: direct communication, and Value Added Network (VAN).',\n",
              "  'Definition of Third Party Logistics. Third party supply of logistics related operations between traders by an independent organization. Eyefortransport. Third Party Logistics is the activity of outsourcing activities related to Logistics and Distribution. The 3PL industry includes Logistics Solution Providers (LSPs) and the shippers whose business processes they support.'],\n",
              " 'url': ['https://en.wikipedia.org/wiki/Electronic_Data_Interchange',\n",
              "  'http://cerasis.com/2014/12/11/edi-in-transportation/',\n",
              "  'http://www.1edisource.com/logistics',\n",
              "  'https://en.wikipedia.org/wiki/Third-party_logistics',\n",
              "  'http://cerasis.com/2014/12/11/edi-in-transportation/',\n",
              "  'http://en.ecommercewiki.info/logistics/supply_chain/edi',\n",
              "  'https://en.wikipedia.org/wiki/Electronic_Data_Interchange',\n",
              "  'http://www.cardinallogistics.co.nz/logistics-info/electronic-data-interchange-edi',\n",
              "  'http://www.truckmaster.com/blogs/trucking-software/edi/trucking-industry-edi-101',\n",
              "  'http://www.logisticslist.com/3pl-definition.html']}"
            ]
          },
          "metadata": {},
          "execution_count": 18
        }
      ]
    },
    {
      "cell_type": "code",
      "source": [
        "for sample in subset:\n",
        "    query_type = sample['query_type']\n",
        "    if query_type != 'entity':\n",
        "        continue\n",
        "    query_id = sample ['query_id']\n",
        "    query_str = sample ['query']\n",
        "    passages_dict = sample ['passages']\n",
        "    is_selected_lst = passages_dict ['is_selected']\n",
        "    passage_text_lst = passages_dict ['passage_text']\n",
        "\n",
        "    query_info = {\n",
        "        'query_id': query_id,\n",
        "        'query': query_str,\n",
        "        'relevant_doc': []\n",
        "    }\n",
        "\n",
        "    current_len_corpus = len(corpus)\n",
        "    for idx in range(len(is_selected_lst)):\n",
        "        if is_selected_lst[idx] == 1:\n",
        "            doc_idx = current_len_corpus + idx\n",
        "            query_info['relevant_doc'].append(doc_idx)\n",
        "    if query_info['relevant_doc'] == []:\n",
        "        continue\n",
        "\n",
        "    queries.append(query_str)\n",
        "    queries_info.append(query_info)\n",
        "    corpus += passage_text_lst"
      ],
      "metadata": {
        "id": "prfmXUu3XEvK"
      },
      "execution_count": 23,
      "outputs": []
    },
    {
      "cell_type": "code",
      "source": [
        "import string\n",
        "import nltk\n",
        "from nltk.corpus import stopwords\n",
        "from nltk.stem import PorterStemmer\n",
        "\n",
        "nltk.download('stopwords')\n",
        "english_stopwords = stopwords.words('english')\n",
        "remove_chars = string.punctuation\n",
        "stemmer = PorterStemmer()\n",
        "\n",
        "def text_normalize(text):\n",
        "    text = text.lower()\n",
        "    for char in remove_chars:\n",
        "        text = text.replace(char, \"\")\n",
        "    text = \" \".join([word for word in text.split() if word not in english_stopwords])\n",
        "    text = \" \".join([stemmer.stem(word) for word in text.split()])\n",
        "\n",
        "    return text"
      ],
      "metadata": {
        "colab": {
          "base_uri": "https://localhost:8080/"
        },
        "id": "frquzIVfd3ho",
        "outputId": "f11236b2-e2eb-476a-833b-075cb7c4939c"
      },
      "execution_count": 24,
      "outputs": [
        {
          "output_type": "stream",
          "name": "stderr",
          "text": [
            "[nltk_data] Downloading package stopwords to /root/nltk_data...\n",
            "[nltk_data]   Package stopwords is already up-to-date!\n"
          ]
        }
      ]
    },
    {
      "cell_type": "code",
      "source": [
        "def create_dictionary(corpus):\n",
        "    dictionary = []\n",
        "    for doc in corpus:\n",
        "        normalized_doc = text_normalize(doc)\n",
        "        tokens = normalized_doc.split()\n",
        "        for token in tokens:\n",
        "            if token not in dictionary:\n",
        "                dictionary.append(token)\n",
        "    return dictionary"
      ],
      "metadata": {
        "id": "mKP1p2cle68n"
      },
      "execution_count": 25,
      "outputs": []
    },
    {
      "cell_type": "code",
      "source": [
        "def vectorize(text, dictionary):\n",
        "    word_count_dict = {word: 0 for word in dictionary}\n",
        "    tokens = text.split()\n",
        "    for token in tokens:\n",
        "        try:\n",
        "            word_count_dict[token] += 1\n",
        "        except:\n",
        "            pass\n",
        "    vector = list(word_count_dict.values())\n",
        "    return vector"
      ],
      "metadata": {
        "id": "319KFWc8f6sO"
      },
      "execution_count": 37,
      "outputs": []
    },
    {
      "cell_type": "code",
      "source": [
        "def create_doc_term_matrix(corpus, dictionary):\n",
        "    doc_term_matrix = {}\n",
        "    for idx, doc in enumerate(corpus):\n",
        "        normalized_doc = text_normalize(doc)\n",
        "        vector = vectorize(normalized_doc, dictionary)\n",
        "        doc_term_matrix[(doc, idx)] = vector\n",
        "    return doc_term_matrix"
      ],
      "metadata": {
        "id": "XrgS4i43gyaW"
      },
      "execution_count": 39,
      "outputs": []
    },
    {
      "cell_type": "code",
      "source": [
        "from scipy import spatial\n",
        "\n",
        "def similarity(a, b):\n",
        "    return 1 - spatial.distance.cosine(a, b)"
      ],
      "metadata": {
        "id": "9tcmS-4liy6f"
      },
      "execution_count": 28,
      "outputs": []
    },
    {
      "cell_type": "code",
      "source": [
        "def ranking(query, dictionary, doc_term_matrix):\n",
        "    normalized_query = text_normalize(query)\n",
        "    query_vec = vectorize(normalized_query, dictionary)\n",
        "    scores = []\n",
        "    for doc_info, doc_vec in doc_term_matrix.items():\n",
        "        sim = similarity(query_vec, doc_vec)\n",
        "        scores.append((sim, doc_info))\n",
        "    scores.sort(reverse=True)\n",
        "    return scores"
      ],
      "metadata": {
        "id": "vuSvhARjjR-O"
      },
      "execution_count": 29,
      "outputs": []
    },
    {
      "cell_type": "code",
      "source": [
        "dictionary = create_dictionary(corpus)\n",
        "doc_term_matrix = create_doc_term_matrix(corpus, dictionary)"
      ],
      "metadata": {
        "id": "-v7mbz4NlK9U"
      },
      "execution_count": 40,
      "outputs": []
    },
    {
      "cell_type": "code",
      "source": [
        "query_lst = ['what is the official language in Fiji']\n",
        "top_k = 10\n",
        "\n",
        "for query in query_lst:\n",
        "    scores = ranking(query, dictionary, doc_term_matrix)\n",
        "    print (f'Query : { query }')\n",
        "    print ('=== Relevant docs ===')\n",
        "    for idx in range(top_k):\n",
        "        doc_score = scores[idx][0]\n",
        "        doc_content = scores[idx][1]\n",
        "        print (f'Top { idx + 1}; Score : { doc_score :.4f}')\n",
        "        print ( doc_content )\n",
        "        print ('\\n')"
      ],
      "metadata": {
        "colab": {
          "base_uri": "https://localhost:8080/"
        },
        "id": "lWXhwdKzkVmK",
        "outputId": "066e0f1b-a704-4dab-8f9d-58fcea7715e3"
      },
      "execution_count": 41,
      "outputs": [
        {
          "output_type": "stream",
          "name": "stdout",
          "text": [
            "Query : what is the official language in Fiji\n",
            "=== Relevant docs ===\n",
            "Top 1; Score : 0.6556\n",
            "('The official languages in Fiji are Fijian and English. A dialect of Hindustani is also widely spoken among Indo-Fijians.  _________________________________________   T … he official and everyday language of Fiji is English. Fijian and Fiji-Hindi are second languages in the island nation.', 6388)\n",
            "\n",
            "\n",
            "Top 2; Score : 0.6556\n",
            "('The official languages in Fiji are Fijian and English. A dialect of Hindustani is also widely spoken among Indo-Fijians.  _________________________________________   T … he official and everyday language of Fiji is English. Fijian and Fiji-Hindi are second languages in the island nation.', 6386)\n",
            "\n",
            "\n",
            "Top 3; Score : 0.5715\n",
            "('The official languages. Fiji’s 1997 Constitution established Fijian as one of the official languages of the country. Fijian is an Austronesian language, a grouping that includes thousands of other languages spanning the globe. The language is of the Malayo-Polynesian family, not too different from Hawaiian and Maori.', 6382)\n",
            "\n",
            "\n",
            "Top 4; Score : 0.5604\n",
            "('Of all the languages of Russia, Russian is the only official language. There are 35 different languages which are considered official languages in various regions of Russia, along with Russian. There are over 100 minority languages spoken in Russia today.', 5858)\n",
            "\n",
            "\n",
            "Top 5; Score : 0.5592\n",
            "('Finnish is one of two official languages of Finland (the other being Swedish, spoken by 5.42% of the population as of 2010) and an official language of the European Union. It enjoys the status of an official minority language in Sweden. It is one of the two official languages of Finland and an official minority language in Sweden. In Sweden, both standard Finnish and Meaenkieli, meänkieli A finnish, dialect are. Spoken The kven, language a dialect Of, finnish is spoken In Northern. norway', 3367)\n",
            "\n",
            "\n",
            "Top 6; Score : 0.5307\n",
            "('Liberia is a multilingual country where more than thirty languages are spoken. English is the official language. None of the languages group forms a distinctive majority. These languages can be grouped in four language families: Mande, Kru, Mel, and the divergent language Gola.', 2897)\n",
            "\n",
            "\n",
            "Top 7; Score : 0.5164\n",
            "('There are over 120 ethnic groups, each with its own language or dialect. Indigenous Tanzanians make up 99 % of the population, while other ethnic groups include Asians, Europeans and Arabs. KiSwahili is the official, universally-spoken language in Tanzania. English, also an official language, is the language of commerce.', 801)\n",
            "\n",
            "\n",
            "Top 8; Score : 0.5094\n",
            "('the two official languages every country in the world has official languages that are spoken amongst the population these languages are generally what are fluently spoken by all residents in canada the two official languages are english and french alongside this 6 2 % of canadians stated that they only speak a language other than english or french at home the different languages of canada with over 200 different languages that are spoken throughout the country the list of different languages in canada would be extensive based on the most populated cities in the country below is a list of commonly spoken languages aside from english and french cantonese', 2531)\n",
            "\n",
            "\n",
            "Top 9; Score : 0.4811\n",
            "('Fiji Language. The Fijian language spoken in Fiji is a type of Austronesian langauge and is part of the Malayo-Polynesian family. The Austronesian languages are normally found among islands in continental and Southeast Asia along with islands in the Pacific.', 6387)\n",
            "\n",
            "\n",
            "Top 10; Score : 0.4547\n",
            "(\"Upon Uganda's independence in 1962, English was maintained as the official language, as it was already rooted deeply in administration, media, and education. Also, Uganda's ethnolinguistic diversity made it difficult to choose another language as the official language of Uganda. Forty of its living indigenous languages fall into three main families — Bantu, Nilotic, and Central Sudanic — with another two languages in the Kuliak family.\", 2256)\n",
            "\n",
            "\n"
          ]
        }
      ]
    }
  ]
}